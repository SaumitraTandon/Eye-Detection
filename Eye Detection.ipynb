{
 "cells": [
  {
   "cell_type": "markdown",
   "id": "d37b41b7",
   "metadata": {},
   "source": [
    "# OpenCV"
   ]
  },
  {
   "cell_type": "code",
   "execution_count": 2,
   "id": "58e9f27a",
   "metadata": {},
   "outputs": [],
   "source": [
    "import cv2"
   ]
  },
  {
   "cell_type": "code",
   "execution_count": null,
   "id": "5d8a8652",
   "metadata": {},
   "outputs": [],
   "source": [
    "from google.colab import drive\n",
    "drive.mount('/content/drive')"
   ]
  },
  {
   "cell_type": "markdown",
   "id": "96ebcf3b",
   "metadata": {},
   "source": [
    "# Eye detection"
   ]
  },
  {
   "cell_type": "code",
   "execution_count": null,
   "id": "55a6f01f",
   "metadata": {},
   "outputs": [],
   "source": [
    "eye_detector = cv2.CascadeClassifier('/content/drive/MyDrive/Computer Vision Masterclass/Cascades/haarcascade_eye.xml')"
   ]
  },
  {
   "cell_type": "code",
   "execution_count": null,
   "id": "b6f84e20",
   "metadata": {},
   "outputs": [],
   "source": [
    "image = cv2.imread('/content/drive/MyDrive/Computer Vision Masterclass/Images/6 people sitting together.jpeg')\n",
    "image = cv2.resize(image, (800, 600))\n",
    "print(image.shape)\n",
    "image_gray = cv2.cvtColor(image, cv2.COLOR_BGR2GRAY)\n",
    "\n",
    "face_detections = face_detector.detectMultiScale(image_gray, scaleFactor = 1.3, minSize = (30,30))\n",
    "for (x, y, w, h) in face_detections:\n",
    "  cv2.rectangle(image, (x, y), (x + w, y + h), (0,255,0), 2)\n",
    "\n",
    "eye_detections = eye_detector.detectMultiScale(image, scaleFactor = 1.1, minNeighbors=5, maxSize=(70,70))\n",
    "for (x, y, w, h) in eye_detections:\n",
    "  print(w, h)\n",
    "  cv2.rectangle(image_gray, (x, y), (x + w, y + h), (0,0,255), 2)\n",
    "\n",
    "cv2_imshow(image_gray)"
   ]
  },
  {
   "cell_type": "code",
   "execution_count": null,
   "id": "c4d940b1",
   "metadata": {},
   "outputs": [],
   "source": []
  }
 ],
 "metadata": {
  "kernelspec": {
   "display_name": "Python 3 (ipykernel)",
   "language": "python",
   "name": "python3"
  },
  "language_info": {
   "codemirror_mode": {
    "name": "ipython",
    "version": 3
   },
   "file_extension": ".py",
   "mimetype": "text/x-python",
   "name": "python",
   "nbconvert_exporter": "python",
   "pygments_lexer": "ipython3",
   "version": "3.11.5"
  }
 },
 "nbformat": 4,
 "nbformat_minor": 5
}
